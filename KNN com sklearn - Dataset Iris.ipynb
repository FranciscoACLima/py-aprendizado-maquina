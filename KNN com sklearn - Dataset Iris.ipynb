{
 "cells": [
  {
   "cell_type": "code",
   "execution_count": 1,
   "metadata": {},
   "outputs": [],
   "source": [
    "import numpy as np\n",
    "from sklearn import neighbors, datasets"
   ]
  },
  {
   "cell_type": "markdown",
   "metadata": {},
   "source": [
    "## Iris Data Set \n",
    "https://archive.ics.uci.edu/ml/datasets/iris\n",
    "\n",
    "Informações dos atributos:\n",
    "1. sepala tamanho in cm \n",
    "2. sepala largura in cm \n",
    "3. petala tamanho in cm \n",
    "4. petala largura in cm \n",
    "5. classe: \n",
    " * Iris Setosa => 0\n",
    " * Iris Versicolour => 1\n",
    " * Iris Virginica => 2\n",
    "\n"
   ]
  },
  {
   "cell_type": "code",
   "execution_count": 2,
   "metadata": {},
   "outputs": [],
   "source": [
    "# usando o iris data set diretamente\n",
    "# x são as entradas e y são as saídas\n",
    "# x usa as 4 colunas de valores\n",
    "iris = datasets.load_iris()"
   ]
  },
  {
   "cell_type": "code",
   "execution_count": 3,
   "metadata": {},
   "outputs": [
    {
     "name": "stdout",
     "output_type": "stream",
     "text": [
      "Iris Plants Database\n",
      "====================\n",
      "\n",
      "Notes\n",
      "-----\n",
      "Data Set Characteristics:\n",
      "    :Number of Instances: 150 (50 in each of three classes)\n",
      "    :Number of Attributes: 4 numeric, predictive attributes and the class\n",
      "    :Attribute Information:\n",
      "        - sepal length in cm\n",
      "        - sepal width in cm\n",
      "        - petal length in cm\n",
      "        - petal width in cm\n",
      "        - class:\n",
      "                - Iris-Setosa\n",
      "                - Iris-Versicolour\n",
      "                - Iris-Virginica\n",
      "    :Summary Statistics:\n",
      "\n",
      "    ============== ==== ==== ======= ===== ====================\n",
      "                    Min  Max   Mean    SD   Class Correlation\n",
      "    ============== ==== ==== ======= ===== ====================\n",
      "    sepal length:   4.3  7.9   5.84   0.83    0.7826\n",
      "    sepal width:    2.0  4.4   3.05   0.43   -0.4194\n",
      "    petal length:   1.0  6.9   3.76   1.76    0.9490  (high!)\n",
      "    petal width:    0.1  2.5   1.20  0.76     0.9565  (high!)\n",
      "    ============== ==== ==== ======= ===== ====================\n",
      "\n",
      "    :Missing Attribute Values: None\n",
      "    :Class Distribution: 33.3% for each of 3 classes.\n",
      "    :Creator: R.A. Fisher\n",
      "    :Donor: Michael Marshall (MARSHALL%PLU@io.arc.nasa.gov)\n",
      "    :Date: July, 1988\n",
      "\n",
      "This is a copy of UCI ML iris datasets.\n",
      "http://archive.ics.uci.edu/ml/datasets/Iris\n",
      "\n",
      "The famous Iris database, first used by Sir R.A Fisher\n",
      "\n",
      "This is perhaps the best known database to be found in the\n",
      "pattern recognition literature.  Fisher's paper is a classic in the field and\n",
      "is referenced frequently to this day.  (See Duda & Hart, for example.)  The\n",
      "data set contains 3 classes of 50 instances each, where each class refers to a\n",
      "type of iris plant.  One class is linearly separable from the other 2; the\n",
      "latter are NOT linearly separable from each other.\n",
      "\n",
      "References\n",
      "----------\n",
      "   - Fisher,R.A. \"The use of multiple measurements in taxonomic problems\"\n",
      "     Annual Eugenics, 7, Part II, 179-188 (1936); also in \"Contributions to\n",
      "     Mathematical Statistics\" (John Wiley, NY, 1950).\n",
      "   - Duda,R.O., & Hart,P.E. (1973) Pattern Classification and Scene Analysis.\n",
      "     (Q327.D83) John Wiley & Sons.  ISBN 0-471-22361-1.  See page 218.\n",
      "   - Dasarathy, B.V. (1980) \"Nosing Around the Neighborhood: A New System\n",
      "     Structure and Classification Rule for Recognition in Partially Exposed\n",
      "     Environments\".  IEEE Transactions on Pattern Analysis and Machine\n",
      "     Intelligence, Vol. PAMI-2, No. 1, 67-71.\n",
      "   - Gates, G.W. (1972) \"The Reduced Nearest Neighbor Rule\".  IEEE Transactions\n",
      "     on Information Theory, May 1972, 431-433.\n",
      "   - See also: 1988 MLC Proceedings, 54-64.  Cheeseman et al\"s AUTOCLASS II\n",
      "     conceptual clustering system finds 3 classes in the data.\n",
      "   - Many, many more ...\n",
      "\n"
     ]
    }
   ],
   "source": [
    "# mostrando a descrição completa do data set\n",
    "print(iris.DESCR)"
   ]
  },
  {
   "cell_type": "code",
   "execution_count": 4,
   "metadata": {},
   "outputs": [
    {
     "name": "stdout",
     "output_type": "stream",
     "text": [
      "150\n",
      "[[ 5.1  3.5  1.4  0.2]\n",
      " [ 4.9  3.   1.4  0.2]\n",
      " [ 4.7  3.2  1.3  0.2]\n",
      " [ 4.6  3.1  1.5  0.2]\n",
      " [ 5.   3.6  1.4  0.2]\n",
      " [ 5.4  3.9  1.7  0.4]\n",
      " [ 4.6  3.4  1.4  0.3]\n",
      " [ 5.   3.4  1.5  0.2]\n",
      " [ 4.4  2.9  1.4  0.2]\n",
      " [ 4.9  3.1  1.5  0.1]\n",
      " [ 5.4  3.7  1.5  0.2]\n",
      " [ 4.8  3.4  1.6  0.2]\n",
      " [ 4.8  3.   1.4  0.1]\n",
      " [ 4.3  3.   1.1  0.1]\n",
      " [ 5.8  4.   1.2  0.2]\n",
      " [ 5.7  4.4  1.5  0.4]\n",
      " [ 5.4  3.9  1.3  0.4]\n",
      " [ 5.1  3.5  1.4  0.3]\n",
      " [ 5.7  3.8  1.7  0.3]\n",
      " [ 5.1  3.8  1.5  0.3]\n",
      " [ 5.4  3.4  1.7  0.2]\n",
      " [ 5.1  3.7  1.5  0.4]\n",
      " [ 4.6  3.6  1.   0.2]\n",
      " [ 5.1  3.3  1.7  0.5]\n",
      " [ 4.8  3.4  1.9  0.2]\n",
      " [ 5.   3.   1.6  0.2]\n",
      " [ 5.   3.4  1.6  0.4]\n",
      " [ 5.2  3.5  1.5  0.2]\n",
      " [ 5.2  3.4  1.4  0.2]\n",
      " [ 4.7  3.2  1.6  0.2]\n",
      " [ 4.8  3.1  1.6  0.2]\n",
      " [ 5.4  3.4  1.5  0.4]\n",
      " [ 5.2  4.1  1.5  0.1]\n",
      " [ 5.5  4.2  1.4  0.2]\n",
      " [ 4.9  3.1  1.5  0.1]\n",
      " [ 5.   3.2  1.2  0.2]\n",
      " [ 5.5  3.5  1.3  0.2]\n",
      " [ 4.9  3.1  1.5  0.1]\n",
      " [ 4.4  3.   1.3  0.2]\n",
      " [ 5.1  3.4  1.5  0.2]\n",
      " [ 5.   3.5  1.3  0.3]\n",
      " [ 4.5  2.3  1.3  0.3]\n",
      " [ 4.4  3.2  1.3  0.2]\n",
      " [ 5.   3.5  1.6  0.6]\n",
      " [ 5.1  3.8  1.9  0.4]\n",
      " [ 4.8  3.   1.4  0.3]\n",
      " [ 5.1  3.8  1.6  0.2]\n",
      " [ 4.6  3.2  1.4  0.2]\n",
      " [ 5.3  3.7  1.5  0.2]\n",
      " [ 5.   3.3  1.4  0.2]\n",
      " [ 7.   3.2  4.7  1.4]\n",
      " [ 6.4  3.2  4.5  1.5]\n",
      " [ 6.9  3.1  4.9  1.5]\n",
      " [ 5.5  2.3  4.   1.3]\n",
      " [ 6.5  2.8  4.6  1.5]\n",
      " [ 5.7  2.8  4.5  1.3]\n",
      " [ 6.3  3.3  4.7  1.6]\n",
      " [ 4.9  2.4  3.3  1. ]\n",
      " [ 6.6  2.9  4.6  1.3]\n",
      " [ 5.2  2.7  3.9  1.4]\n",
      " [ 5.   2.   3.5  1. ]\n",
      " [ 5.9  3.   4.2  1.5]\n",
      " [ 6.   2.2  4.   1. ]\n",
      " [ 6.1  2.9  4.7  1.4]\n",
      " [ 5.6  2.9  3.6  1.3]\n",
      " [ 6.7  3.1  4.4  1.4]\n",
      " [ 5.6  3.   4.5  1.5]\n",
      " [ 5.8  2.7  4.1  1. ]\n",
      " [ 6.2  2.2  4.5  1.5]\n",
      " [ 5.6  2.5  3.9  1.1]\n",
      " [ 5.9  3.2  4.8  1.8]\n",
      " [ 6.1  2.8  4.   1.3]\n",
      " [ 6.3  2.5  4.9  1.5]\n",
      " [ 6.1  2.8  4.7  1.2]\n",
      " [ 6.4  2.9  4.3  1.3]\n",
      " [ 6.6  3.   4.4  1.4]\n",
      " [ 6.8  2.8  4.8  1.4]\n",
      " [ 6.7  3.   5.   1.7]\n",
      " [ 6.   2.9  4.5  1.5]\n",
      " [ 5.7  2.6  3.5  1. ]\n",
      " [ 5.5  2.4  3.8  1.1]\n",
      " [ 5.5  2.4  3.7  1. ]\n",
      " [ 5.8  2.7  3.9  1.2]\n",
      " [ 6.   2.7  5.1  1.6]\n",
      " [ 5.4  3.   4.5  1.5]\n",
      " [ 6.   3.4  4.5  1.6]\n",
      " [ 6.7  3.1  4.7  1.5]\n",
      " [ 6.3  2.3  4.4  1.3]\n",
      " [ 5.6  3.   4.1  1.3]\n",
      " [ 5.5  2.5  4.   1.3]\n",
      " [ 5.5  2.6  4.4  1.2]\n",
      " [ 6.1  3.   4.6  1.4]\n",
      " [ 5.8  2.6  4.   1.2]\n",
      " [ 5.   2.3  3.3  1. ]\n",
      " [ 5.6  2.7  4.2  1.3]\n",
      " [ 5.7  3.   4.2  1.2]\n",
      " [ 5.7  2.9  4.2  1.3]\n",
      " [ 6.2  2.9  4.3  1.3]\n",
      " [ 5.1  2.5  3.   1.1]\n",
      " [ 5.7  2.8  4.1  1.3]\n",
      " [ 6.3  3.3  6.   2.5]\n",
      " [ 5.8  2.7  5.1  1.9]\n",
      " [ 7.1  3.   5.9  2.1]\n",
      " [ 6.3  2.9  5.6  1.8]\n",
      " [ 6.5  3.   5.8  2.2]\n",
      " [ 7.6  3.   6.6  2.1]\n",
      " [ 4.9  2.5  4.5  1.7]\n",
      " [ 7.3  2.9  6.3  1.8]\n",
      " [ 6.7  2.5  5.8  1.8]\n",
      " [ 7.2  3.6  6.1  2.5]\n",
      " [ 6.5  3.2  5.1  2. ]\n",
      " [ 6.4  2.7  5.3  1.9]\n",
      " [ 6.8  3.   5.5  2.1]\n",
      " [ 5.7  2.5  5.   2. ]\n",
      " [ 5.8  2.8  5.1  2.4]\n",
      " [ 6.4  3.2  5.3  2.3]\n",
      " [ 6.5  3.   5.5  1.8]\n",
      " [ 7.7  3.8  6.7  2.2]\n",
      " [ 7.7  2.6  6.9  2.3]\n",
      " [ 6.   2.2  5.   1.5]\n",
      " [ 6.9  3.2  5.7  2.3]\n",
      " [ 5.6  2.8  4.9  2. ]\n",
      " [ 7.7  2.8  6.7  2. ]\n",
      " [ 6.3  2.7  4.9  1.8]\n",
      " [ 6.7  3.3  5.7  2.1]\n",
      " [ 7.2  3.2  6.   1.8]\n",
      " [ 6.2  2.8  4.8  1.8]\n",
      " [ 6.1  3.   4.9  1.8]\n",
      " [ 6.4  2.8  5.6  2.1]\n",
      " [ 7.2  3.   5.8  1.6]\n",
      " [ 7.4  2.8  6.1  1.9]\n",
      " [ 7.9  3.8  6.4  2. ]\n",
      " [ 6.4  2.8  5.6  2.2]\n",
      " [ 6.3  2.8  5.1  1.5]\n",
      " [ 6.1  2.6  5.6  1.4]\n",
      " [ 7.7  3.   6.1  2.3]\n",
      " [ 6.3  3.4  5.6  2.4]\n",
      " [ 6.4  3.1  5.5  1.8]\n",
      " [ 6.   3.   4.8  1.8]\n",
      " [ 6.9  3.1  5.4  2.1]\n",
      " [ 6.7  3.1  5.6  2.4]\n",
      " [ 6.9  3.1  5.1  2.3]\n",
      " [ 5.8  2.7  5.1  1.9]\n",
      " [ 6.8  3.2  5.9  2.3]\n",
      " [ 6.7  3.3  5.7  2.5]\n",
      " [ 6.7  3.   5.2  2.3]\n",
      " [ 6.3  2.5  5.   1.9]\n",
      " [ 6.5  3.   5.2  2. ]\n",
      " [ 6.2  3.4  5.4  2.3]\n",
      " [ 5.9  3.   5.1  1.8]]\n"
     ]
    }
   ],
   "source": [
    "# pegando as entradas\n",
    "x = iris.data\n",
    "print(len(x))\n",
    "\n",
    "print(x)"
   ]
  },
  {
   "cell_type": "code",
   "execution_count": 5,
   "metadata": {},
   "outputs": [
    {
     "name": "stdout",
     "output_type": "stream",
     "text": [
      "150\n",
      "[0 0 0 0 0 0 0 0 0 0 0 0 0 0 0 0 0 0 0 0 0 0 0 0 0 0 0 0 0 0 0 0 0 0 0 0 0\n",
      " 0 0 0 0 0 0 0 0 0 0 0 0 0 1 1 1 1 1 1 1 1 1 1 1 1 1 1 1 1 1 1 1 1 1 1 1 1\n",
      " 1 1 1 1 1 1 1 1 1 1 1 1 1 1 1 1 1 1 1 1 1 1 1 1 1 1 2 2 2 2 2 2 2 2 2 2 2\n",
      " 2 2 2 2 2 2 2 2 2 2 2 2 2 2 2 2 2 2 2 2 2 2 2 2 2 2 2 2 2 2 2 2 2 2 2 2 2\n",
      " 2 2]\n"
     ]
    }
   ],
   "source": [
    "# pegando as saidas transformadas em inteiros (target)\n",
    "y = iris.target\n",
    "print(len(y))\n",
    "print(y)"
   ]
  },
  {
   "cell_type": "code",
   "execution_count": 6,
   "metadata": {},
   "outputs": [],
   "source": [
    "# importando train_test_split para separar os elementos de treino\n",
    "# dos elementos de teste\n",
    "from sklearn.model_selection import train_test_split"
   ]
  },
  {
   "cell_type": "code",
   "execution_count": 7,
   "metadata": {},
   "outputs": [],
   "source": [
    "# train_test_split retorna uma tupla com 4 listas\n",
    "perc = 0.30\n",
    "x_treino, x_teste, y_treino, y_teste = train_test_split(\n",
    "    x,  # atributos\n",
    "    y, # classes\n",
    "    test_size=perc,  # percentual para o teste\n",
    "    random_state=42  # pseudo aleatoriedade; garante o mesmo resultado\n",
    ")"
   ]
  },
  {
   "cell_type": "code",
   "execution_count": 8,
   "metadata": {},
   "outputs": [
    {
     "data": {
      "text/plain": [
       "105"
      ]
     },
     "execution_count": 8,
     "metadata": {},
     "output_type": "execute_result"
    }
   ],
   "source": [
    "len(x_treino)"
   ]
  },
  {
   "cell_type": "code",
   "execution_count": 9,
   "metadata": {},
   "outputs": [
    {
     "name": "stdout",
     "output_type": "stream",
     "text": [
      "[[ 5.5  2.4  3.7  1. ]\n",
      " [ 6.3  2.8  5.1  1.5]\n",
      " [ 6.4  3.1  5.5  1.8]\n",
      " [ 6.6  3.   4.4  1.4]\n",
      " [ 7.2  3.6  6.1  2.5]\n",
      " [ 5.7  2.9  4.2  1.3]\n",
      " [ 7.6  3.   6.6  2.1]\n",
      " [ 5.6  3.   4.5  1.5]\n",
      " [ 5.1  3.5  1.4  0.2]\n",
      " [ 7.7  2.8  6.7  2. ]\n",
      " [ 5.8  2.7  4.1  1. ]\n",
      " [ 5.2  3.4  1.4  0.2]\n",
      " [ 5.   3.5  1.3  0.3]\n",
      " [ 5.1  3.8  1.9  0.4]\n",
      " [ 5.   2.   3.5  1. ]\n",
      " [ 6.3  2.7  4.9  1.8]\n",
      " [ 4.8  3.4  1.9  0.2]\n",
      " [ 5.   3.   1.6  0.2]\n",
      " [ 5.1  3.3  1.7  0.5]\n",
      " [ 5.6  2.7  4.2  1.3]\n",
      " [ 5.1  3.4  1.5  0.2]\n",
      " [ 5.7  3.   4.2  1.2]\n",
      " [ 7.7  3.8  6.7  2.2]\n",
      " [ 4.6  3.2  1.4  0.2]\n",
      " [ 6.2  2.9  4.3  1.3]\n",
      " [ 5.7  2.5  5.   2. ]\n",
      " [ 5.5  4.2  1.4  0.2]\n",
      " [ 6.   3.   4.8  1.8]\n",
      " [ 5.8  2.7  5.1  1.9]\n",
      " [ 6.   2.2  4.   1. ]\n",
      " [ 5.4  3.   4.5  1.5]\n",
      " [ 6.2  3.4  5.4  2.3]\n",
      " [ 5.5  2.3  4.   1.3]\n",
      " [ 5.4  3.9  1.7  0.4]\n",
      " [ 5.   2.3  3.3  1. ]\n",
      " [ 6.4  2.7  5.3  1.9]\n",
      " [ 5.   3.3  1.4  0.2]\n",
      " [ 5.   3.2  1.2  0.2]\n",
      " [ 5.5  2.4  3.8  1.1]\n",
      " [ 6.7  3.   5.   1.7]\n",
      " [ 4.9  3.1  1.5  0.1]\n",
      " [ 5.8  2.8  5.1  2.4]\n",
      " [ 5.   3.4  1.5  0.2]\n",
      " [ 5.   3.5  1.6  0.6]\n",
      " [ 5.9  3.2  4.8  1.8]\n",
      " [ 5.1  2.5  3.   1.1]\n",
      " [ 6.9  3.2  5.7  2.3]\n",
      " [ 6.   2.7  5.1  1.6]\n",
      " [ 6.1  2.6  5.6  1.4]\n",
      " [ 7.7  3.   6.1  2.3]\n",
      " [ 5.5  2.5  4.   1.3]\n",
      " [ 4.4  2.9  1.4  0.2]\n",
      " [ 4.3  3.   1.1  0.1]\n",
      " [ 6.   2.2  5.   1.5]\n",
      " [ 7.2  3.2  6.   1.8]\n",
      " [ 4.6  3.1  1.5  0.2]\n",
      " [ 5.1  3.5  1.4  0.3]\n",
      " [ 4.4  3.   1.3  0.2]\n",
      " [ 6.3  2.5  4.9  1.5]\n",
      " [ 6.3  3.4  5.6  2.4]\n",
      " [ 4.6  3.4  1.4  0.3]\n",
      " [ 6.8  3.   5.5  2.1]\n",
      " [ 6.3  3.3  6.   2.5]\n",
      " [ 4.7  3.2  1.3  0.2]\n",
      " [ 6.1  2.9  4.7  1.4]\n",
      " [ 6.5  2.8  4.6  1.5]\n",
      " [ 6.2  2.8  4.8  1.8]\n",
      " [ 7.   3.2  4.7  1.4]\n",
      " [ 6.4  3.2  5.3  2.3]\n",
      " [ 5.1  3.8  1.6  0.2]\n",
      " [ 6.9  3.1  5.4  2.1]\n",
      " [ 5.9  3.   4.2  1.5]\n",
      " [ 6.5  3.   5.2  2. ]\n",
      " [ 5.7  2.6  3.5  1. ]\n",
      " [ 5.2  2.7  3.9  1.4]\n",
      " [ 6.1  3.   4.6  1.4]\n",
      " [ 4.5  2.3  1.3  0.3]\n",
      " [ 6.6  2.9  4.6  1.3]\n",
      " [ 5.5  2.6  4.4  1.2]\n",
      " [ 5.3  3.7  1.5  0.2]\n",
      " [ 5.6  3.   4.1  1.3]\n",
      " [ 7.3  2.9  6.3  1.8]\n",
      " [ 6.7  3.3  5.7  2.1]\n",
      " [ 5.1  3.7  1.5  0.4]\n",
      " [ 4.9  2.4  3.3  1. ]\n",
      " [ 6.7  3.3  5.7  2.5]\n",
      " [ 7.2  3.   5.8  1.6]\n",
      " [ 4.9  3.1  1.5  0.1]\n",
      " [ 6.7  3.1  5.6  2.4]\n",
      " [ 4.9  3.   1.4  0.2]\n",
      " [ 6.9  3.1  4.9  1.5]\n",
      " [ 7.4  2.8  6.1  1.9]\n",
      " [ 6.3  2.9  5.6  1.8]\n",
      " [ 5.7  2.8  4.1  1.3]\n",
      " [ 6.5  3.   5.5  1.8]\n",
      " [ 6.3  2.3  4.4  1.3]\n",
      " [ 6.4  2.9  4.3  1.3]\n",
      " [ 5.6  2.8  4.9  2. ]\n",
      " [ 5.9  3.   5.1  1.8]\n",
      " [ 5.4  3.4  1.7  0.2]\n",
      " [ 6.1  2.8  4.   1.3]\n",
      " [ 4.9  2.5  4.5  1.7]\n",
      " [ 5.8  4.   1.2  0.2]\n",
      " [ 5.8  2.6  4.   1.2]\n",
      " [ 7.1  3.   5.9  2.1]]\n"
     ]
    }
   ],
   "source": [
    "print(x_treino)"
   ]
  },
  {
   "cell_type": "code",
   "execution_count": 10,
   "metadata": {},
   "outputs": [
    {
     "name": "stdout",
     "output_type": "stream",
     "text": [
      "[1 2 2 1 2 1 2 1 0 2 1 0 0 0 1 2 0 0 0 1 0 1 2 0 1 2 0 2 2 1 1 2 1 0 1 2 0\n",
      " 0 1 1 0 2 0 0 1 1 2 1 2 2 1 0 0 2 2 0 0 0 1 2 0 2 2 0 1 1 2 1 2 0 2 1 2 1\n",
      " 1 1 0 1 1 0 1 2 2 0 1 2 2 0 2 0 1 2 2 1 2 1 1 2 2 0 1 2 0 1 2]\n"
     ]
    }
   ],
   "source": [
    "print(y_treino)"
   ]
  },
  {
   "cell_type": "code",
   "execution_count": 11,
   "metadata": {},
   "outputs": [
    {
     "data": {
      "text/plain": [
       "45"
      ]
     },
     "execution_count": 11,
     "metadata": {},
     "output_type": "execute_result"
    }
   ],
   "source": [
    "len(x_teste)"
   ]
  },
  {
   "cell_type": "code",
   "execution_count": 12,
   "metadata": {},
   "outputs": [
    {
     "name": "stdout",
     "output_type": "stream",
     "text": [
      "[[ 6.1  2.8  4.7  1.2]\n",
      " [ 5.7  3.8  1.7  0.3]\n",
      " [ 7.7  2.6  6.9  2.3]\n",
      " [ 6.   2.9  4.5  1.5]\n",
      " [ 6.8  2.8  4.8  1.4]\n",
      " [ 5.4  3.4  1.5  0.4]\n",
      " [ 5.6  2.9  3.6  1.3]\n",
      " [ 6.9  3.1  5.1  2.3]\n",
      " [ 6.2  2.2  4.5  1.5]\n",
      " [ 5.8  2.7  3.9  1.2]\n",
      " [ 6.5  3.2  5.1  2. ]\n",
      " [ 4.8  3.   1.4  0.1]\n",
      " [ 5.5  3.5  1.3  0.2]\n",
      " [ 4.9  3.1  1.5  0.1]\n",
      " [ 5.1  3.8  1.5  0.3]\n",
      " [ 6.3  3.3  4.7  1.6]\n",
      " [ 6.5  3.   5.8  2.2]\n",
      " [ 5.6  2.5  3.9  1.1]\n",
      " [ 5.7  2.8  4.5  1.3]\n",
      " [ 6.4  2.8  5.6  2.2]\n",
      " [ 4.7  3.2  1.6  0.2]\n",
      " [ 6.1  3.   4.9  1.8]\n",
      " [ 5.   3.4  1.6  0.4]\n",
      " [ 6.4  2.8  5.6  2.1]\n",
      " [ 7.9  3.8  6.4  2. ]\n",
      " [ 6.7  3.   5.2  2.3]\n",
      " [ 6.7  2.5  5.8  1.8]\n",
      " [ 6.8  3.2  5.9  2.3]\n",
      " [ 4.8  3.   1.4  0.3]\n",
      " [ 4.8  3.1  1.6  0.2]\n",
      " [ 4.6  3.6  1.   0.2]\n",
      " [ 5.7  4.4  1.5  0.4]\n",
      " [ 6.7  3.1  4.4  1.4]\n",
      " [ 4.8  3.4  1.6  0.2]\n",
      " [ 4.4  3.2  1.3  0.2]\n",
      " [ 6.3  2.5  5.   1.9]\n",
      " [ 6.4  3.2  4.5  1.5]\n",
      " [ 5.2  3.5  1.5  0.2]\n",
      " [ 5.   3.6  1.4  0.2]\n",
      " [ 5.2  4.1  1.5  0.1]\n",
      " [ 5.8  2.7  5.1  1.9]\n",
      " [ 6.   3.4  4.5  1.6]\n",
      " [ 6.7  3.1  4.7  1.5]\n",
      " [ 5.4  3.9  1.3  0.4]\n",
      " [ 5.4  3.7  1.5  0.2]]\n"
     ]
    }
   ],
   "source": [
    "print(x_teste)"
   ]
  },
  {
   "cell_type": "code",
   "execution_count": 13,
   "metadata": {},
   "outputs": [
    {
     "name": "stdout",
     "output_type": "stream",
     "text": [
      "[1 0 2 1 1 0 1 2 1 1 2 0 0 0 0 1 2 1 1 2 0 2 0 2 2 2 2 2 0 0 0 0 1 0 0 2 1\n",
      " 0 0 0 2 1 1 0 0]\n"
     ]
    }
   ],
   "source": [
    "print(y_teste)"
   ]
  },
  {
   "cell_type": "code",
   "execution_count": 14,
   "metadata": {},
   "outputs": [
    {
     "name": "stdout",
     "output_type": "stream",
     "text": [
      "[ 6.9  3.1  5.4  2.1]\n",
      "2\n"
     ]
    }
   ],
   "source": [
    "# extraindo uma linha para verificar se os valores estão corretos\n",
    "regist = x_treino[70]\n",
    "print(regist)\n",
    "classe = y_treino[70]\n",
    "print(classe)"
   ]
  },
  {
   "cell_type": "code",
   "execution_count": 15,
   "metadata": {},
   "outputs": [
    {
     "name": "stdout",
     "output_type": "stream",
     "text": [
      "[ 6.9  3.1  5.4  2.1]\n",
      "2\n",
      "linha: 139\n"
     ]
    }
   ],
   "source": [
    "# verificando no dataset\n",
    "for i in range(len(x)):\n",
    "    if np.array_equal(x[i], regist):\n",
    "        print(x[i])\n",
    "        print(y[i])\n",
    "        print('linha: %d' %i)"
   ]
  },
  {
   "cell_type": "code",
   "execution_count": 16,
   "metadata": {},
   "outputs": [
    {
     "name": "stdout",
     "output_type": "stream",
     "text": [
      "10\n",
      "11\n"
     ]
    }
   ],
   "source": [
    "# definindo o k com a raiz quadrada do tamanho do treino\n",
    "# e garantir que o valor seja impar\n",
    "import math\n",
    "k = int(math.sqrt(len(y_treino)))\n",
    "print(k)\n",
    "if k % 2 == 0:\n",
    "    k += 1\n",
    "print(k)"
   ]
  },
  {
   "cell_type": "code",
   "execution_count": 17,
   "metadata": {},
   "outputs": [
    {
     "data": {
      "text/plain": [
       "KNeighborsClassifier(algorithm='auto', leaf_size=30, metric='minkowski',\n",
       "           metric_params=None, n_jobs=1, n_neighbors=11, p=2,\n",
       "           weights='uniform')"
      ]
     },
     "execution_count": 17,
     "metadata": {},
     "output_type": "execute_result"
    }
   ],
   "source": [
    "# importando o kNN classificador\n",
    "from sklearn.neighbors import KNeighborsClassifier\n",
    "\n",
    "# criando um classificador padrao\n",
    "knn = KNeighborsClassifier(n_neighbors=k)\n",
    "\n",
    "# fazendo o treinamento\n",
    "knn.fit(x_treino, y_treino)"
   ]
  },
  {
   "cell_type": "code",
   "execution_count": 18,
   "metadata": {},
   "outputs": [],
   "source": [
    "# fazendo a predição\n",
    "labels = knn.predict(x_teste)"
   ]
  },
  {
   "cell_type": "code",
   "execution_count": 19,
   "metadata": {},
   "outputs": [
    {
     "name": "stdout",
     "output_type": "stream",
     "text": [
      "Testados 45 registros\n",
      "Acertos em 45 registros\n"
     ]
    }
   ],
   "source": [
    "# np.sum soma o resultado da comparação entre as duas listas \n",
    "testes = len(y_teste)\n",
    "acertos = np.sum(labels == y_teste)\n",
    "print('Testados %d registros' % testes)\n",
    "print('Acertos em %d registros' % acertos)"
   ]
  },
  {
   "cell_type": "code",
   "execution_count": 20,
   "metadata": {},
   "outputs": [
    {
     "data": {
      "text/plain": [
       "100.0"
      ]
     },
     "execution_count": 20,
     "metadata": {},
     "output_type": "execute_result"
    }
   ],
   "source": [
    "# calculando o score em percentual\n",
    "100 * (labels == y_teste).sum() / len(x_teste)"
   ]
  },
  {
   "cell_type": "code",
   "execution_count": 21,
   "metadata": {},
   "outputs": [
    {
     "data": {
      "text/plain": [
       "1.0"
      ]
     },
     "execution_count": 21,
     "metadata": {},
     "output_type": "execute_result"
    }
   ],
   "source": [
    "# score usando o KNeighborsClassifier\n",
    "score = knn.score(x_teste, y_teste)\n",
    "score"
   ]
  },
  {
   "cell_type": "code",
   "execution_count": 22,
   "metadata": {},
   "outputs": [],
   "source": [
    "# mostrando registros errados, se houver\n",
    "if score != 1.0:\n",
    "    for i in range(len(y_teste)):\n",
    "        if y_teste[i] != labels[i]:\n",
    "            print(x_teste[i])\n",
    "            print(labels[i])\n",
    "            print(y_teste[i])\n",
    "            print(i)"
   ]
  },
  {
   "cell_type": "code",
   "execution_count": null,
   "metadata": {},
   "outputs": [],
   "source": []
  }
 ],
 "metadata": {
  "kernelspec": {
   "display_name": "Python 3",
   "language": "python",
   "name": "python3"
  },
  "language_info": {
   "codemirror_mode": {
    "name": "ipython",
    "version": 3
   },
   "file_extension": ".py",
   "mimetype": "text/x-python",
   "name": "python",
   "nbconvert_exporter": "python",
   "pygments_lexer": "ipython3",
   "version": "3.5.2"
  }
 },
 "nbformat": 4,
 "nbformat_minor": 1
}
